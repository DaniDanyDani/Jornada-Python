{
 "cells": [
  {
   "cell_type": "code",
   "execution_count": null,
   "metadata": {},
   "outputs": [],
   "source": [
    "# Importar base de dados\n",
    "\n",
    "import pandas as pd\n",
    "\n",
    "clientes = pd.read_csv(r\"C:\\Users\\Danie\\OneDrive\\Documentos\\MeusProjetos\\Jornada-Python\\Python AI\\clientes.csv\")\n",
    "\n",
    "display(clientes)\n",
    "display(clientes.info())"
   ]
  },
  {
   "cell_type": "code",
   "execution_count": null,
   "metadata": {},
   "outputs": [],
   "source": [
    "# Não há linhas vaias\n",
    "# IA só interpreta valores numéricos, logo as clunas como object devemos codifica-las\n",
    "\n",
    "from sklearn.preprocessing import LabelEncoder\n",
    "\n",
    "codificador = LabelEncoder() # cria um codificador\n",
    "\n",
    "for coluna in clientes.columns: # Codifica as colunas de tipo object\n",
    "    if clientes[coluna].dtype == \"object\" and coluna != \"score_credito\":\n",
    "        clientes[coluna] = codificador.fit_transform(clientes[coluna])\n",
    "\n",
    "for coluna in clientes.columns: # Verifica se há alguma coluna object\n",
    "    if clientes[coluna].dtype == \"object\" and coluna != \"score_credito\":\n",
    "        print(coluna)\n",
    "\n",
    "display(clientes)"
   ]
  },
  {
   "cell_type": "code",
   "execution_count": null,
   "metadata": {},
   "outputs": [],
   "source": [
    "# Separar as colunas da tabela que usaremos para prever o score_credito\n",
    "x = clientes.drop([\"score_credito\", \"id_cliente\"], axis=1)\n",
    "y = clientes[\"score_credito\"]\n",
    "\n",
    "# X serão as colunas usadas para prever o score_credito\n",
    "# Y será a coluna a se prever\n",
    "# Agora vamos separar as informações das tabelas de treino e teste\n",
    "\n",
    "from sklearn.model_selection import train_test_split\n",
    "\n",
    "x_treino, x_teste, y_treino, y_teste = train_test_split(x, y, test_size=0.3, random_state=1)\n",
    "\n",
    "# print(x.info())\n"
   ]
  },
  {
   "cell_type": "code",
   "execution_count": null,
   "metadata": {},
   "outputs": [],
   "source": [
    "# Há vários modelos de IA, dentre eles:\n",
    "# Modelo Árvore de Decisão\n",
    "# Modelo de Vizinhos Mais Próximos (KNN)\n",
    "\n",
    "from sklearn.ensemble import RandomForestClassifier\n",
    "from sklearn.neighbors import KNeighborsClassifier\n",
    "\n",
    "\n",
    "# Cria os modelos\n",
    "modelo_arvore = RandomForestClassifier()\n",
    "modelo_knn = KNeighborsClassifier()\n",
    "\n",
    "# Treina os modelos\n",
    "modelo_arvore.fit(x_treino, y_treino)\n",
    "modelo_knn.fit(x_treino, y_treino)"
   ]
  },
  {
   "cell_type": "code",
   "execution_count": null,
   "metadata": {},
   "outputs": [],
   "source": [
    "from sklearn.metrics import accuracy_score\n",
    "\n",
    "# Calcula a previsão dos modelos\n",
    "previsao_arvore = modelo_arvore.predict(x_teste)\n",
    "previsao_knn = modelo_knn.predict(x_teste)\n",
    "\n",
    "# Compara a previsão dos modelos com os scores de teste\n",
    "print(accuracy_score(y_teste, previsao_arvore))\n",
    "print(accuracy_score(y_teste, previsao_knn))"
   ]
  },
  {
   "cell_type": "code",
   "execution_count": null,
   "metadata": {},
   "outputs": [],
   "source": [
    "# Podemos ver que o modelo de árvore teve uma previsão melhor\n",
    "# A porcentagem que se deseja depende do modelo\n",
    "# Mas nós podemos ver quais características estão com mais pesos nos modelos\n",
    "\n",
    "colunas = list(x_teste.columns)\n",
    "importancia = pd.DataFrame(index=colunas, data=modelo_arvore.feature_importances_)\n",
    "importancia = importancia * 100\n",
    "print(importancia)"
   ]
  },
  {
   "cell_type": "code",
   "execution_count": null,
   "metadata": {},
   "outputs": [],
   "source": [
    "# Agora vamos prever o score de crédito dos novos clientes\n",
    "\n",
    "novos_clientes = pd.read_csv(r\"C:\\Users\\Danie\\OneDrive\\Documentos\\MeusProjetos\\Jornada-Python\\Python AI\\novos_clientes.csv\")\n",
    "\n",
    "display(novos_clientes)\n",
    "print(novos_clientes.info())"
   ]
  },
  {
   "cell_type": "code",
   "execution_count": null,
   "metadata": {},
   "outputs": [],
   "source": [
    "for coluna in novos_clientes.columns:\n",
    "    if novos_clientes[coluna].dtype == \"object\":\n",
    "        novos_clientes[coluna] = codificador.fit_transform(novos_clientes[coluna])\n",
    "\n",
    "print(novos_clientes.info())"
   ]
  },
  {
   "cell_type": "code",
   "execution_count": null,
   "metadata": {},
   "outputs": [],
   "source": [
    "x_novo = novos_clientes\n",
    "\n",
    "previsao_nova_arvore = modelo_arvore.predict(x_novo)\n",
    "\n",
    "print(previsao_nova_arvore)"
   ]
  },
  {
   "cell_type": "code",
   "execution_count": null,
   "metadata": {},
   "outputs": [],
   "source": [
    "# Adicionar as previsões a uma coluna nos novos clientes\n",
    "novos_clientes[\"score_credito\"] = previsao_nova_arvore\n",
    "display(novos_clientes)"
   ]
  },
  {
   "cell_type": "code",
   "execution_count": null,
   "metadata": {},
   "outputs": [],
   "source": [
    "# E então as nossas previsões estão terminadas, cabendo ao cliente dizer se estão dentro do esperado ou não"
   ]
  }
 ],
 "metadata": {
  "kernelspec": {
   "display_name": "Python 3",
   "language": "python",
   "name": "python3"
  },
  "language_info": {
   "codemirror_mode": {
    "name": "ipython",
    "version": 3
   },
   "file_extension": ".py",
   "mimetype": "text/x-python",
   "name": "python",
   "nbconvert_exporter": "python",
   "pygments_lexer": "ipython3",
   "version": "3.11.7"
  }
 },
 "nbformat": 4,
 "nbformat_minor": 2
}
