{
 "cells": [
  {
   "cell_type": "code",
   "execution_count": null,
   "metadata": {},
   "outputs": [],
   "source": [
    "import pandas as pd\n",
    "import plotly.express as px\n",
    "tabela = pd.read_csv(r\"C:\\Users\\Danie\\OneDrive\\Documentos\\MeusProjetos\\Jornada-Python\\Python Insights\\cancelamentos.csv\")\n",
    "display(tabela)"
   ]
  },
  {
   "cell_type": "code",
   "execution_count": null,
   "metadata": {},
   "outputs": [],
   "source": [
    "# Tratamento de dados:\n",
    "# Há algumas formas de tratar dados\n",
    "# Remover linhas vazias, adicionar o máximo, mínimo ou média nos lugares, mas, nesse exemplo como tem poucas linhas vazias então o melhor é removê-las\n",
    "# Remover colunas inúteis\n",
    "\n",
    "display(tabela.info()) # Verificar quais linhas estão vazias e se os tipos de dados das linhas estão certos\n",
    "\n",
    "tabela = tabela.dropna() # Remove todas as linhas vazias\n",
    "tabela = tabela.drop(\"CustomerID\", axis=1)\n",
    "display(tabela.info())\n"
   ]
  },
  {
   "cell_type": "code",
   "execution_count": null,
   "metadata": {},
   "outputs": [],
   "source": [
    "display(tabela[\"cancelou\"].value_counts()) # exibe os valores da coluna cancelou\n",
    "display(tabela[\"cancelou\"].value_counts(normalize=True).map(\"{:.1%}\".format)) # exibe os valores da coluna como porcentagem"
   ]
  },
  {
   "cell_type": "code",
   "execution_count": null,
   "metadata": {},
   "outputs": [],
   "source": [
    "# Podemos ver que realmente mais da metade dos usuários cancelam suas contas"
   ]
  },
  {
   "cell_type": "code",
   "execution_count": null,
   "metadata": {},
   "outputs": [],
   "source": [
    "for coluna in tabela.columns:\n",
    "    grafico = px.histogram(tabela, x=coluna, color=\"cancelou\", width=600)\n",
    "    grafico.show()"
   ]
  },
  {
   "cell_type": "code",
   "execution_count": null,
   "metadata": {},
   "outputs": [],
   "source": [
    "# Percebemos que os mais chamativos são os dias_atrasado e ligacoes_callcenter\n",
    "# dias atrasados acima de 20 e ligações acima de 5 vezes ao call center tem 100% de chance de cancelamento\n",
    "# Vamos remover essas condições de cancelamento da tabela\n",
    "# Também há 100% de cancelamento para assinantes do plano mensal\n",
    "\n",
    "tabela = tabela[tabela[\"ligacoes_callcenter\"]<5]\n",
    "tabela = tabela[tabela[\"dias_atraso\"]<=20]\n",
    "tabela = tabela[tabela[\"duracao_contrato\"]!=\"Monthly\"]\n",
    "display(tabela)\n",
    "display(tabela[\"cancelou\"].value_counts())\n",
    "display(tabela[\"cancelou\"].value_counts(normalize=True).map(\"{:.1%}\".format))"
   ]
  },
  {
   "cell_type": "code",
   "execution_count": null,
   "metadata": {},
   "outputs": [],
   "source": [
    "# Assim, caso apenas esses três tópicos:\n",
    "# Plano mensal, ligações para o callcenter e atrasos\n",
    "# Sejam \"concertados\" diminuiríamos muito os cancelamentos"
   ]
  }
 ],
 "metadata": {
  "kernelspec": {
   "display_name": "Python 3",
   "language": "python",
   "name": "python3"
  },
  "language_info": {
   "codemirror_mode": {
    "name": "ipython",
    "version": 3
   },
   "file_extension": ".py",
   "mimetype": "text/x-python",
   "name": "python",
   "nbconvert_exporter": "python",
   "pygments_lexer": "ipython3",
   "version": "3.11.7"
  }
 },
 "nbformat": 4,
 "nbformat_minor": 2
}
